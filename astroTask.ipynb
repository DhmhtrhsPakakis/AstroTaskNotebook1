{
 "cells": [
  {
   "cell_type": "code",
   "execution_count": 1,
   "id": "cc2e791f-1b47-43ea-9158-105c01d7b413",
   "metadata": {},
   "outputs": [
    {
     "name": "stdout",
     "output_type": "stream",
     "text": [
      "Hello\n"
     ]
    }
   ],
   "source": [
    "print('Hello')"
   ]
  },
  {
   "cell_type": "markdown",
   "id": "14bfc177-2658-4b6a-aabf-db8357b65495",
   "metadata": {},
   "source": [
    "# Hallo bby you are beautiful\n"
   ]
  },
  {
   "cell_type": "code",
   "execution_count": null,
   "id": "5f27473e-cc99-4caa-9a05-b2b465c44728",
   "metadata": {},
   "outputs": [],
   "source": []
  }
 ],
 "metadata": {
  "kernelspec": {
   "display_name": "Python 3 (ipykernel)",
   "language": "python",
   "name": "python3"
  },
  "language_info": {
   "codemirror_mode": {
    "name": "ipython",
    "version": 3
   },
   "file_extension": ".py",
   "mimetype": "text/x-python",
   "name": "python",
   "nbconvert_exporter": "python",
   "pygments_lexer": "ipython3",
   "version": "3.11.9"
  }
 },
 "nbformat": 4,
 "nbformat_minor": 5
}
